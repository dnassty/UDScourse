{
 "cells": [
  {
   "cell_type": "markdown",
   "metadata": {},
   "source": [
    "### Lecture 4: Homework"
   ]
  },
  {
   "cell_type": "markdown",
   "metadata": {},
   "source": [
    "Today we gonna learn how to choose between ML models, based on data type. Your task would be to predict **the edibility of a mushroom** based on sample descriptions (binary classification problem)\n",
    "\n",
    "The **tricky part here is that 95% of the features are of categorical type.**\n",
    "<br>That's the one where we would **(usually)  prefer tree-based algorithms over linear methods**\n",
    "\n",
    "Although this dataset was originally contributed to the UCI Machine Learning repository nearly 30 years ago, mushroom hunting (otherwise known as \"shrooming\") is enjoying new peaks in popularity. Learn which features spell certain death and which are most palatable in this dataset of mushroom characteristics. And how certain can your model be?\n",
    "\n",
    "This dataset includes descriptions of hypothetical samples corresponding to 23 species of gilled mushrooms in the Agaricus and Lepiota Family Mushroom drawn from The Audubon Society Field Guide to North American Mushrooms (1981). Each species is identified as definitely edible, definitely poisonous, or of unknown edibility and not recommended. This latter class was combined with the poisonous one. The Guide clearly states that there is no simple rule for determining the edibility of a mushroom; no rule like \"leaflets three, let it be'' for Poisonous Oak and Ivy.\n",
    "\n",
    "More information can be found [here](https://www.kaggle.com/uciml/mushroom-classification/data)"
   ]
  },
  {
   "cell_type": "code",
   "execution_count": 2,
   "metadata": {
    "ExecuteTime": {
     "end_time": "2018-03-01T19:13:18.719050Z",
     "start_time": "2018-03-01T19:13:18.204437Z"
    },
    "collapsed": true
   },
   "outputs": [],
   "source": [
    "# library import\n",
    "import pandas as pd\n",
    "import numpy as np\n",
    "from os.path import join as pjoin\n",
    "pd.options.display.max_columns = 50\n",
    "pd.options.display.max_colwidth = 100\n",
    "\n",
    "# preprocessing / validation\n",
    "from sklearn.preprocessing import LabelEncoder, OneHotEncoder\n",
    "from sklearn.model_selection import train_test_split, StratifiedKFold, cross_val_score, GridSearchCV\n",
    "# ML models\n",
    "from sklearn.tree import DecisionTreeClassifier\n",
    "from sklearn.ensemble import RandomForestClassifier\n",
    "from sklearn.linear_model import LogisticRegression\n",
    "\n",
    "# metrics\n",
    "from sklearn.metrics import classification_report, f1_score"
   ]
  },
  {
   "cell_type": "code",
   "execution_count": 3,
   "metadata": {
    "ExecuteTime": {
     "end_time": "2018-03-01T19:13:18.765926Z",
     "start_time": "2018-03-01T19:13:18.719050Z"
    }
   },
   "outputs": [
    {
     "name": "stdout",
     "output_type": "stream",
     "text": [
      "(6499, 23) (1625, 22)\n"
     ]
    }
   ],
   "source": [
    "# read data\n",
    "df_train = pd.read_csv( '4-mushrooms-train.csv',engine='c')\n",
    "df_test = pd.read_csv( '4-mushrooms-test.csv',engine='c')\n",
    "print(df_train.shape, df_test.shape)"
   ]
  },
  {
   "cell_type": "code",
   "execution_count": 4,
   "metadata": {
    "ExecuteTime": {
     "end_time": "2018-03-01T19:13:18.803688Z",
     "start_time": "2018-03-01T19:13:18.765926Z"
    }
   },
   "outputs": [
    {
     "data": {
      "text/html": [
       "<div>\n",
       "<style>\n",
       "    .dataframe thead tr:only-child th {\n",
       "        text-align: right;\n",
       "    }\n",
       "\n",
       "    .dataframe thead th {\n",
       "        text-align: left;\n",
       "    }\n",
       "\n",
       "    .dataframe tbody tr th {\n",
       "        vertical-align: top;\n",
       "    }\n",
       "</style>\n",
       "<table border=\"1\" class=\"dataframe\">\n",
       "  <thead>\n",
       "    <tr style=\"text-align: right;\">\n",
       "      <th></th>\n",
       "      <th>target</th>\n",
       "      <th>cap_shape</th>\n",
       "      <th>cap_surface</th>\n",
       "      <th>cap_color</th>\n",
       "      <th>bruises</th>\n",
       "      <th>odor</th>\n",
       "      <th>gill_attachment</th>\n",
       "      <th>gill_spacing</th>\n",
       "      <th>gill_size</th>\n",
       "      <th>gill_color</th>\n",
       "      <th>stalk_shape</th>\n",
       "      <th>stalk_root</th>\n",
       "      <th>stalk_surface_above_ring</th>\n",
       "      <th>stalk_surface_below_ring</th>\n",
       "      <th>stalk_color_above_ring</th>\n",
       "      <th>stalk_color_below_ring</th>\n",
       "      <th>veil_type</th>\n",
       "      <th>veil_color</th>\n",
       "      <th>ring_number</th>\n",
       "      <th>ring_type</th>\n",
       "      <th>spore_print_color</th>\n",
       "      <th>population</th>\n",
       "      <th>habitat</th>\n",
       "    </tr>\n",
       "  </thead>\n",
       "  <tbody>\n",
       "    <tr>\n",
       "      <th>0</th>\n",
       "      <td>0</td>\n",
       "      <td>convex</td>\n",
       "      <td>scaly</td>\n",
       "      <td>brown</td>\n",
       "      <td>bruises</td>\n",
       "      <td>pungent</td>\n",
       "      <td>free</td>\n",
       "      <td>close</td>\n",
       "      <td>narrow</td>\n",
       "      <td>white</td>\n",
       "      <td>enlarging</td>\n",
       "      <td>equal</td>\n",
       "      <td>smooth</td>\n",
       "      <td>smooth</td>\n",
       "      <td>white</td>\n",
       "      <td>white</td>\n",
       "      <td>partial</td>\n",
       "      <td>white</td>\n",
       "      <td>one</td>\n",
       "      <td>pendant</td>\n",
       "      <td>brown</td>\n",
       "      <td>scattered</td>\n",
       "      <td>urban</td>\n",
       "    </tr>\n",
       "    <tr>\n",
       "      <th>1</th>\n",
       "      <td>1</td>\n",
       "      <td>flat</td>\n",
       "      <td>fibrous</td>\n",
       "      <td>gray</td>\n",
       "      <td>bruises</td>\n",
       "      <td>none</td>\n",
       "      <td>free</td>\n",
       "      <td>close</td>\n",
       "      <td>broad</td>\n",
       "      <td>brown</td>\n",
       "      <td>tapering</td>\n",
       "      <td>bulbous</td>\n",
       "      <td>smooth</td>\n",
       "      <td>smooth</td>\n",
       "      <td>white</td>\n",
       "      <td>white</td>\n",
       "      <td>partial</td>\n",
       "      <td>white</td>\n",
       "      <td>one</td>\n",
       "      <td>pendant</td>\n",
       "      <td>brown</td>\n",
       "      <td>several</td>\n",
       "      <td>woods</td>\n",
       "    </tr>\n",
       "    <tr>\n",
       "      <th>2</th>\n",
       "      <td>0</td>\n",
       "      <td>flat</td>\n",
       "      <td>smooth</td>\n",
       "      <td>brown</td>\n",
       "      <td>no</td>\n",
       "      <td>none</td>\n",
       "      <td>attached</td>\n",
       "      <td>close</td>\n",
       "      <td>broad</td>\n",
       "      <td>orange</td>\n",
       "      <td>enlarging</td>\n",
       "      <td>missing</td>\n",
       "      <td>smooth</td>\n",
       "      <td>smooth</td>\n",
       "      <td>orange</td>\n",
       "      <td>orange</td>\n",
       "      <td>partial</td>\n",
       "      <td>orange</td>\n",
       "      <td>one</td>\n",
       "      <td>pendant</td>\n",
       "      <td>brown</td>\n",
       "      <td>several</td>\n",
       "      <td>leaves</td>\n",
       "    </tr>\n",
       "    <tr>\n",
       "      <th>3</th>\n",
       "      <td>1</td>\n",
       "      <td>convex</td>\n",
       "      <td>fibrous</td>\n",
       "      <td>gray</td>\n",
       "      <td>bruises</td>\n",
       "      <td>none</td>\n",
       "      <td>free</td>\n",
       "      <td>close</td>\n",
       "      <td>broad</td>\n",
       "      <td>brown</td>\n",
       "      <td>tapering</td>\n",
       "      <td>bulbous</td>\n",
       "      <td>smooth</td>\n",
       "      <td>smooth</td>\n",
       "      <td>white</td>\n",
       "      <td>white</td>\n",
       "      <td>partial</td>\n",
       "      <td>white</td>\n",
       "      <td>one</td>\n",
       "      <td>pendant</td>\n",
       "      <td>black</td>\n",
       "      <td>solitary</td>\n",
       "      <td>woods</td>\n",
       "    </tr>\n",
       "    <tr>\n",
       "      <th>4</th>\n",
       "      <td>0</td>\n",
       "      <td>knobbed</td>\n",
       "      <td>smooth</td>\n",
       "      <td>brown</td>\n",
       "      <td>no</td>\n",
       "      <td>foul</td>\n",
       "      <td>free</td>\n",
       "      <td>close</td>\n",
       "      <td>narrow</td>\n",
       "      <td>buff</td>\n",
       "      <td>tapering</td>\n",
       "      <td>missing</td>\n",
       "      <td>silky</td>\n",
       "      <td>smooth</td>\n",
       "      <td>pink</td>\n",
       "      <td>pink</td>\n",
       "      <td>partial</td>\n",
       "      <td>white</td>\n",
       "      <td>one</td>\n",
       "      <td>evanescent</td>\n",
       "      <td>white</td>\n",
       "      <td>several</td>\n",
       "      <td>paths</td>\n",
       "    </tr>\n",
       "  </tbody>\n",
       "</table>\n",
       "</div>"
      ],
      "text/plain": [
       "   target cap_shape cap_surface cap_color  bruises     odor gill_attachment  \\\n",
       "0       0    convex       scaly     brown  bruises  pungent            free   \n",
       "1       1      flat     fibrous      gray  bruises     none            free   \n",
       "2       0      flat      smooth     brown       no     none        attached   \n",
       "3       1    convex     fibrous      gray  bruises     none            free   \n",
       "4       0   knobbed      smooth     brown       no     foul            free   \n",
       "\n",
       "  gill_spacing gill_size gill_color stalk_shape stalk_root  \\\n",
       "0        close    narrow      white   enlarging      equal   \n",
       "1        close     broad      brown    tapering    bulbous   \n",
       "2        close     broad     orange   enlarging    missing   \n",
       "3        close     broad      brown    tapering    bulbous   \n",
       "4        close    narrow       buff    tapering    missing   \n",
       "\n",
       "  stalk_surface_above_ring stalk_surface_below_ring stalk_color_above_ring  \\\n",
       "0                   smooth                   smooth                  white   \n",
       "1                   smooth                   smooth                  white   \n",
       "2                   smooth                   smooth                 orange   \n",
       "3                   smooth                   smooth                  white   \n",
       "4                    silky                   smooth                   pink   \n",
       "\n",
       "  stalk_color_below_ring veil_type veil_color ring_number   ring_type  \\\n",
       "0                  white   partial      white         one     pendant   \n",
       "1                  white   partial      white         one     pendant   \n",
       "2                 orange   partial     orange         one     pendant   \n",
       "3                  white   partial      white         one     pendant   \n",
       "4                   pink   partial      white         one  evanescent   \n",
       "\n",
       "  spore_print_color population habitat  \n",
       "0             brown  scattered   urban  \n",
       "1             brown    several   woods  \n",
       "2             brown    several  leaves  \n",
       "3             black   solitary   woods  \n",
       "4             white    several   paths  "
      ]
     },
     "execution_count": 4,
     "metadata": {},
     "output_type": "execute_result"
    }
   ],
   "source": [
    "# let's see what data looks like\n",
    "df_train.head()"
   ]
  },
  {
   "cell_type": "code",
   "execution_count": 5,
   "metadata": {
    "ExecuteTime": {
     "end_time": "2018-03-01T19:13:18.834937Z",
     "start_time": "2018-03-01T19:13:18.803688Z"
    }
   },
   "outputs": [
    {
     "name": "stdout",
     "output_type": "stream",
     "text": [
      "(8124, 24)\n"
     ]
    },
    {
     "data": {
      "text/plain": [
       "True     6499\n",
       "False    1625\n",
       "Name: is_train, dtype: int64"
      ]
     },
     "execution_count": 5,
     "metadata": {},
     "output_type": "execute_result"
    }
   ],
   "source": [
    "# for convenient calculations, let us merge train with test\n",
    "df = pd.concat([df_train, df_test], axis=0)\n",
    "# add column for filtering train/test\n",
    "df['is_train'] = True\n",
    "df.loc[df.target.isnull(), 'is_train'] = False\n",
    "# check shapes\n",
    "print(df.shape)\n",
    "# check labels\n",
    "df.is_train.value_counts()"
   ]
  },
  {
   "cell_type": "markdown",
   "metadata": {
    "ExecuteTime": {
     "end_time": "2018-03-01T15:42:12.821025Z",
     "start_time": "2018-03-01T15:42:09.355356Z"
    }
   },
   "source": [
    "### Task 1. Which feature has the highest amount of unique values? (joint dataset)\n"
   ]
  },
  {
   "cell_type": "code",
   "execution_count": 6,
   "metadata": {
    "ExecuteTime": {
     "end_time": "2018-03-01T19:13:18.866187Z",
     "start_time": "2018-03-01T19:13:18.834937Z"
    }
   },
   "outputs": [
    {
     "name": "stdout",
     "output_type": "stream",
     "text": [
      "{'bruises': 2, 'cap_color': 10, 'cap_shape': 6, 'cap_surface': 4, 'gill_attachment': 2, 'gill_color': 12, 'gill_size': 2, 'gill_spacing': 2, 'habitat': 7, 'odor': 9, 'population': 6, 'ring_number': 3, 'ring_type': 5, 'spore_print_color': 9, 'stalk_color_above_ring': 9, 'stalk_color_below_ring': 9, 'stalk_root': 5, 'stalk_shape': 2, 'stalk_surface_above_ring': 4, 'stalk_surface_below_ring': 4, 'target': 2, 'veil_color': 4, 'veil_type': 1, 'is_train': 2}\n"
     ]
    }
   ],
   "source": [
    "most_diversive = {column:len(set(df[column].dropna())) for column in df.columns}\n",
    "\n",
    "print(most_diversive)"
   ]
  },
  {
   "cell_type": "code",
   "execution_count": 7,
   "metadata": {},
   "outputs": [
    {
     "data": {
      "text/plain": [
       "{'bruises': no         0.584441\n",
       " bruises    0.415559\n",
       " Name: bruises, dtype: float64, 'cap_color': brown       0.281142\n",
       " gray        0.226489\n",
       " red         0.184638\n",
       " yellow      0.131955\n",
       " white       0.128016\n",
       " buff        0.020679\n",
       " pink        0.017725\n",
       " cinnamon    0.005416\n",
       " green       0.001969\n",
       " purple      0.001969\n",
       " Name: cap_color, dtype: float64, 'cap_shape': convex     0.450025\n",
       " flat       0.387986\n",
       " knobbed    0.101920\n",
       " bell       0.055638\n",
       " sunken     0.003939\n",
       " conical    0.000492\n",
       " Name: cap_shape, dtype: float64, 'cap_surface': scaly      0.399311\n",
       " smooth     0.314623\n",
       " fibrous    0.285574\n",
       " grooves    0.000492\n",
       " Name: cap_surface, dtype: float64, 'gill_attachment': free        0.974151\n",
       " attached    0.025849\n",
       " Name: gill_attachment, dtype: float64, 'gill_color': buff         0.212703\n",
       " pink         0.183653\n",
       " white        0.147957\n",
       " brown        0.129000\n",
       " gray         0.092565\n",
       " chocolate    0.090103\n",
       " purple       0.060561\n",
       " black        0.050222\n",
       " red          0.011817\n",
       " yellow       0.010586\n",
       " orange       0.007878\n",
       " green        0.002954\n",
       " Name: gill_color, dtype: float64, 'gill_size': broad     0.690793\n",
       " narrow    0.309207\n",
       " Name: gill_size, dtype: float64, 'gill_spacing': close      0.838503\n",
       " crowded    0.161497\n",
       " Name: gill_spacing, dtype: float64, 'habitat': woods      0.387494\n",
       " grasses    0.264402\n",
       " paths      0.140817\n",
       " leaves     0.102413\n",
       " urban      0.045298\n",
       " meadows    0.035943\n",
       " waste      0.023634\n",
       " Name: habitat, dtype: float64, 'is_train': True     0.799975\n",
       " False    0.200025\n",
       " Name: is_train, dtype: float64, 'odor': none        0.434269\n",
       " foul        0.265879\n",
       " fishy       0.070901\n",
       " spicy       0.070901\n",
       " anise       0.049237\n",
       " almond      0.049237\n",
       " pungent     0.031512\n",
       " creosote    0.023634\n",
       " musty       0.004431\n",
       " Name: odor, dtype: float64, 'population': several      0.497292\n",
       " solitary     0.210734\n",
       " scattered    0.153619\n",
       " numerous     0.049237\n",
       " abundant     0.047267\n",
       " clustered    0.041851\n",
       " Name: population, dtype: float64, 'ring_number': one     0.921713\n",
       " two     0.073855\n",
       " none    0.004431\n",
       " Name: ring_number, dtype: float64, 'ring_type': pendant       0.488429\n",
       " evanescent    0.341704\n",
       " large         0.159527\n",
       " flaring       0.005908\n",
       " none          0.004431\n",
       " Name: ring_type, dtype: float64, 'spore_print_color': white        0.293944\n",
       " brown        0.242245\n",
       " black        0.230428\n",
       " chocolate    0.200886\n",
       " green        0.008863\n",
       " orange       0.005908\n",
       " yellow       0.005908\n",
       " buff         0.005908\n",
       " purple       0.005908\n",
       " Name: spore_print_color, dtype: float64, 'stalk_color_above_ring': white       0.549483\n",
       " pink        0.230428\n",
       " gray        0.070901\n",
       " brown       0.055145\n",
       " buff        0.053176\n",
       " orange      0.023634\n",
       " red         0.011817\n",
       " cinnamon    0.004431\n",
       " yellow      0.000985\n",
       " Name: stalk_color_above_ring, dtype: float64, 'stalk_color_below_ring': white       0.539636\n",
       " pink        0.230428\n",
       " gray        0.070901\n",
       " brown       0.063023\n",
       " buff        0.053176\n",
       " orange      0.023634\n",
       " red         0.011817\n",
       " cinnamon    0.004431\n",
       " yellow      0.002954\n",
       " Name: stalk_color_below_ring, dtype: float64, 'stalk_root': bulbous    0.464796\n",
       " missing    0.305268\n",
       " equal      0.137863\n",
       " club       0.068439\n",
       " rooted     0.023634\n",
       " Name: stalk_root, dtype: float64, 'stalk_shape': tapering     0.567208\n",
       " enlarging    0.432792\n",
       " Name: stalk_shape, dtype: float64, 'stalk_surface_above_ring': smooth     0.637125\n",
       " silky      0.291974\n",
       " fibrous    0.067947\n",
       " scaly      0.002954\n",
       " Name: stalk_surface_above_ring, dtype: float64, 'stalk_surface_below_ring': smooth     0.607582\n",
       " silky      0.283604\n",
       " fibrous    0.073855\n",
       " scaly      0.034958\n",
       " Name: stalk_surface_below_ring, dtype: float64, 'target': 1.0    0.51331\n",
       " 0.0    0.48669\n",
       " Name: target, dtype: float64, 'veil_color': white     0.975382\n",
       " orange    0.011817\n",
       " brown     0.011817\n",
       " yellow    0.000985\n",
       " Name: veil_color, dtype: float64, 'veil_type': partial    1.0\n",
       " Name: veil_type, dtype: float64}"
      ]
     },
     "execution_count": 7,
     "metadata": {},
     "output_type": "execute_result"
    }
   ],
   "source": [
    "most_diversive = {column: df[column].value_counts(normalize = True) for column in df.columns}\n",
    "most_diversive"
   ]
  },
  {
   "cell_type": "code",
   "execution_count": 8,
   "metadata": {},
   "outputs": [
    {
     "data": {
      "text/plain": [
       "1    0.51331\n",
       "0    0.48669\n",
       "Name: target, dtype: float64"
      ]
     },
     "execution_count": 8,
     "metadata": {},
     "output_type": "execute_result"
    }
   ],
   "source": [
    "df_train['target'].value_counts(normalize = True)"
   ]
  },
  {
   "cell_type": "markdown",
   "metadata": {},
   "source": [
    "'gill_color': 12"
   ]
  },
  {
   "cell_type": "markdown",
   "metadata": {
    "ExecuteTime": {
     "end_time": "2018-03-01T15:54:52.296735Z",
     "start_time": "2018-03-01T15:54:52.281115Z"
    }
   },
   "source": [
    "### Task 2\n",
    "**As a preparation, one would spend up to 15-30 minutes on exploratory data analysis (EDA)** - make sure you understand how features are distributed in train/test, what they look like, are they ordinal/binary/categorical before moving further\n",
    "<br>While doing it, please answer the questions"
   ]
  },
  {
   "cell_type": "markdown",
   "metadata": {
    "ExecuteTime": {
     "end_time": "2018-03-01T16:27:41.214779Z",
     "start_time": "2018-03-01T16:27:41.199155Z"
    }
   },
   "source": [
    "#### 2.1 Are there any features, obviously redundant to train on? If yes - what are they and why it's better to remove them?"
   ]
  },
  {
   "cell_type": "code",
   "execution_count": 9,
   "metadata": {
    "ExecuteTime": {
     "end_time": "2018-03-01T19:13:18.881811Z",
     "start_time": "2018-03-01T19:13:18.866187Z"
    }
   },
   "outputs": [
    {
     "name": "stdout",
     "output_type": "stream",
     "text": [
      "(8124, 24)\n",
      "(8124, 23)\n"
     ]
    }
   ],
   "source": [
    "print(df.shape)\n",
    "# your code/hardcoded list goes here\n",
    "\n",
    "# ---------------------------------------------------------------\n",
    "redundant_columns = ['veil_type']\n",
    "# ---------------------------------------------------------------\n",
    "# lets drop these columns from joint dataset\n",
    "df = df.drop(redundant_columns, axis=1, errors='ignore')\n",
    "print(df.shape)"
   ]
  },
  {
   "cell_type": "markdown",
   "metadata": {},
   "source": [
    "####  2.2 How many features (excluding target variable and train/test indexing columns) are:\n",
    "- categorical (more than 2 unique values, no explicit ordering)\n",
    "- ordinal (more than 2 unique values, explicit ordering)\n",
    "- binary (2 unique values, doesn't matter whether it has ordering or is \"yes/no\" styled) "
   ]
  },
  {
   "cell_type": "code",
   "execution_count": 10,
   "metadata": {
    "ExecuteTime": {
     "end_time": "2018-03-01T19:13:18.903953Z",
     "start_time": "2018-03-01T19:13:18.883318Z"
    }
   },
   "outputs": [
    {
     "name": "stdout",
     "output_type": "stream",
     "text": [
      "categorical: 15\n",
      "ordinal: 1\n",
      "binary: 5\n"
     ]
    }
   ],
   "source": [
    "# your code goes here\n",
    "# ---------------------------------------------------------------\n",
    "ordinal_cols = sorted(['ring_number'])\n",
    "binary_cols = sorted([ column  for column in df_test.columns if len(set(df_test[column].dropna())) == 2])\n",
    "categorical_cols = sorted(['cap_color','cap_shape','cap_surface','gill_color','habitat','odor','population','spore_print_color',\n",
    "                         'ring_type','stalk_color_above_ring','stalk_color_below_ring','stalk_root',\n",
    "                          'stalk_surface_above_ring','veil_color','stalk_surface_below_ring'])\n",
    "# ---------------------------------------------------------------\n",
    "print('categorical: {}\\nordinal: {}\\nbinary: {}'.format(\n",
    "    len(categorical_cols), len(ordinal_cols), len(binary_cols)))"
   ]
  },
  {
   "cell_type": "code",
   "execution_count": 11,
   "metadata": {
    "ExecuteTime": {
     "end_time": "2018-03-01T19:13:19.066710Z",
     "start_time": "2018-03-01T19:13:18.903953Z"
    },
    "collapsed": true
   },
   "outputs": [],
   "source": [
    "# To be used in training, data must be properly encoded\n",
    "from collections import defaultdict\n",
    "\n",
    "# function to encode categorical data\n",
    "\n",
    "\n",
    "def __encode_categorical(df_list, cat_cols):\n",
    "    # initialize placeholder\n",
    "    d = defaultdict(LabelEncoder)\n",
    "    # fit and encode train/test,\n",
    "    codes = pd.concat([ df[cat_cols] for df in df_list],axis=0).fillna('').apply(lambda x: d[x.name].fit(x))\n",
    "    # transform encodings to train/test etc\n",
    "    for df in df_list:\n",
    "        df[cat_cols] = df[cat_cols].fillna('').apply(lambda x: d[x.name].transform(x))\n",
    "\n",
    "\n",
    "# label encode data (categorical + binary)\n",
    "__encode_categorical(df_list=[df], cat_cols=categorical_cols+binary_cols)\n",
    "# make sure you encode the only ordinal column in correct order\n",
    "df[ordinal_cols[0]] = df[ordinal_cols[0]].map({'none': 0, 'one': 1, 'two': 2})\n",
    "\n",
    "# define useful feature columns to be used for training\n",
    "# (union of all columns discussed above)\n",
    "columns_to_use = ordinal_cols + binary_cols + categorical_cols"
   ]
  },
  {
   "cell_type": "markdown",
   "metadata": {
    "ExecuteTime": {
     "end_time": "2018-03-01T16:57:45.813108Z",
     "start_time": "2018-03-01T16:57:45.797483Z"
    }
   },
   "source": [
    "### Task 3. Prepare cross-validation strategy and perform comparison of 2 baseline models (linear vs tree-based)"
   ]
  },
  {
   "cell_type": "markdown",
   "metadata": {},
   "source": [
    "### =====================================================\n",
    "#### Briefly about Validation / Cross-Validation\n",
    "\n",
    "Learning the parameters of a prediction function and testing it on the same data is a methodological mistake: a model that would just repeat the labels of the samples that it has just seen would have a perfect score but **would fail to predict anything useful on yet-unseen data. This situation is called overfitting**. \n",
    "<br>To avoid it, it is common practice when performing a (supervised) machine learning experiment to hold out part of the available data as a test set ```X_test, y_test```. \n",
    "<br>Note that the word “experiment” is not intended to denote academic use only, because even in commercial settings machine learning usually starts out experimentally.\n",
    "\n",
    "When evaluating different settings (“hyperparameters”) for estimators, **there is still a risk of overfitting on the test set** because the parameters can be tweaked until the estimator performs optimally. \n",
    "<br>This way, knowledge about the test set can “leak” into the model and evaluation metrics no longer report on generalization performance. \n",
    "<br>To solve this problem, yet another part of the dataset can be held out as a so-called “validation set”: training proceeds on the training set, after which evaluation is done on the validation set, and when the experiment seems to be successful, final evaluation can be done on the test set.\n",
    "\n",
    "However, by partitioning the available data into three sets, **we drastically reduce the number of samples which can be used for learning the model, and the results can depend on a particular random choice for the pair of (train, validation) sets.**\n",
    "\n",
    "A solution to this problem is a procedure called **cross-validation (CV for short). A test set should still be held out for final evaluation, but the validation set is no longer needed when doing CV**. In the basic approach, called k-fold CV, the training set is split into k smaller sets (other approaches are described below, but generally follow the same principles). The following procedure is followed for each of the k “folds”:\n",
    "\n",
    "- A model is trained using k-1 of the folds as training data;\n",
    "- the resulting model is validated on the remaining part of the data \n",
    "<br>(i.e., it is used as a test set to compute a performance measure such as accuracy).\n",
    "        \n",
    "<img src=\"https://hsto.org/files/b1d/706/e6c/b1d706e6c9df49c297b6152878a2d03f.png\"/ style=\"width:75%\">\n",
    "\n",
    "The performance measure reported by k-fold cross-validation **is then the average of the values computed in the loop**. \n",
    "<br>This approach can be computationally expensive, but does not waste too much data (as it is the case when fixing an arbitrary test set), which is a major advantage in problem such as inverse inference where the number of samples is very small.\n",
    "\n",
    "\n",
    "Some classification problems can **exhibit a large imbalance in the distribution of the target classes: for instance there could be several times more negative samples than positive samples**. \n",
    "<br>In such cases it is recommended to use **stratified sampling** as implemented in sklearn's StratifiedKFold and StratifiedShuffleSplit to ensure that relative class frequencies is approximately preserved in each train and validation fold.\n",
    "\n",
    "More details about different cross-validation strategies, implemented in sklearn, can be found [here](http://scikit-learn.org/stable/modules/cross_validation.html)\n",
    "### ====================================================="
   ]
  },
  {
   "cell_type": "markdown",
   "metadata": {
    "ExecuteTime": {
     "end_time": "2018-03-01T16:57:45.813108Z",
     "start_time": "2018-03-01T16:57:45.797483Z"
    }
   },
   "source": [
    "Prepare KFold with 5 splits, stratified by target variable, shuffled, with fixed random_state = 42\n",
    "<br>**Don't forget to filter by column 'is_train'!**\n",
    "<br>Fit models on subset of features: [columns_to_use]"
   ]
  },
  {
   "cell_type": "code",
   "execution_count": 12,
   "metadata": {
    "ExecuteTime": {
     "end_time": "2018-03-01T19:13:23.353852Z",
     "start_time": "2018-03-01T19:13:19.066710Z"
    },
    "collapsed": true
   },
   "outputs": [],
   "source": [
    "from os import cpu_count\n",
    "\n",
    "n_jobs = max(cpu_count()-1, 1)\n",
    "\n",
    "# cross-validation iterator\n",
    "kf = StratifiedKFold(n_splits=5,shuffle = True, random_state=42)\n",
    "# xtrain, ytrain, DataFrame-like\n",
    "xtrain = df[columns_to_use].loc[df['is_train']==True]\n",
    "ytrain =  df['target'].loc[df['is_train']==True]"
   ]
  },
  {
   "cell_type": "code",
   "execution_count": 13,
   "metadata": {},
   "outputs": [
    {
     "name": "stdout",
     "output_type": "stream",
     "text": [
      "LR scoring: 0.89\n"
     ]
    }
   ],
   "source": [
    "# create Logistic Regression with default params, random_state=42\n",
    "lr = LogisticRegression(random_state=42)\n",
    "\n",
    "# estimate its f1-score with cross-validation\n",
    "scores_lr = cross_val_score(\n",
    "    estimator=lr,\n",
    "    X=xtrain, \n",
    "    y=ytrain, \n",
    "    scoring='f1',\n",
    "    cv=kf,\n",
    "    n_jobs=n_jobs).mean()\n",
    "print('LR scoring: {:.2f}'.format(scores_lr))"
   ]
  },
  {
   "cell_type": "code",
   "execution_count": 14,
   "metadata": {
    "scrolled": false
   },
   "outputs": [
    {
     "name": "stdout",
     "output_type": "stream",
     "text": [
      "DT scoring: 0.90\n"
     ]
    }
   ],
   "source": [
    "# create Decision Tree with default params, max_depth=4, random_state=42\n",
    "dt = DecisionTreeClassifier(max_depth=3, random_state=42)\n",
    "# estimate its f1-score with cross-validation (cross_val_score)\n",
    "scores_dt = cross_val_score(\n",
    "    estimator=dt,\n",
    "    X=xtrain, \n",
    "    y=ytrain, \n",
    "    scoring='f1',\n",
    "    cv=kf, \n",
    "    n_jobs=n_jobs).mean()\n",
    "print('DT scoring: {:.2f}'.format(scores_dt))\n",
    "# ---------------------------------------------------------------"
   ]
  },
  {
   "cell_type": "markdown",
   "metadata": {},
   "source": [
    "Why is a score of Linear Regression lower than correspondent one of DT?\n",
    "1. Is everything OK with the data format for linear models? (revision of 2 previous lectures). \n",
    "1. If not, what else you should do to use the data appropriately for linear models?\n",
    "1. Why didn't point 1. affect Decision Tree performance?"
   ]
  },
  {
   "cell_type": "raw",
   "metadata": {
    "ExecuteTime": {
     "end_time": "2018-03-01T17:07:09.097412Z",
     "start_time": "2018-03-01T17:07:09.081783Z"
    }
   },
   "source": [
    "---------------------------------------------------------\n",
    "1. No, because linear models work with only binarized categorical data\n",
    "2. For example, One Hot Encoding for catedorical data\n",
    "3. Because Decision Trees can work with categorical data through a partition of a set of categorical values\n",
    "---------------------------------------------------------"
   ]
  },
  {
   "cell_type": "markdown",
   "metadata": {},
   "source": [
    "### Task 4. Now it's time to do some hyperparam tuning\n",
    "Perform suitable hyperparam tuning using created above cross-validation strategy\n",
    "<br>Main parameters to perform grid-search for:\n",
    "- max_depth (1,2,...None)\n",
    "- min_samples_leaf (1,2,...)\n",
    "- criterion (gini, entropy)\n",
    "- weight (none, balanced)\n",
    "- max_features (sqrt(features), 50%, 75%, all of them, ...)\n",
    "- other params available, see documentation\n",
    "\n",
    "So - use your fantasy for filling-in abovementioned lists\n",
    "\n",
    "You should receive **a gain of 0.01 in f1-score or higher**\n",
    "<br>(current benchmark = +0.0268 gain)"
   ]
  },
  {
   "cell_type": "code",
   "execution_count": 21,
   "metadata": {
    "ExecuteTime": {
     "end_time": "2018-03-01T19:13:36.468592Z",
     "start_time": "2018-03-01T19:13:23.353852Z"
    }
   },
   "outputs": [
    {
     "name": "stdout",
     "output_type": "stream",
     "text": [
      "f1-score best: 0.9282, +0.0269 better than baseline\n",
      "CPU times: user 11.6 s, sys: 253 ms, total: 11.8 s\n",
      "Wall time: 1min 5s\n"
     ]
    }
   ],
   "source": [
    "%%time\n",
    "# create base model (DT, random state = 42)\n",
    "estimator = DecisionTreeClassifier(random_state = 42)\n",
    "\n",
    "# create parameter grid\n",
    "# http://scikit-learn.org/stable/modules/generated/sklearn.model_selection.GridSearchCV.html\n",
    "params = {'max_depth':[3,4,5,6,7],'min_samples_leaf':[2,3,5,7], 'criterion':['gini','entropy'],\n",
    "          'class_weight':['balanced'],'max_features':['sqrt','log2',0.75,0.5,0.4],\n",
    "         'min_samples_split':[2,3,4],'presort':[True,False]}\n",
    "\n",
    "# create grid search object\n",
    "gs = GridSearchCV(\n",
    "    estimator=estimator,  # base model\n",
    "    param_grid=params,  # params grid to search within\n",
    "    cv=kf,  # cross-validation strategy\n",
    "    error_score=1,  # warnings only\n",
    "    scoring='f1',  # f1-score\n",
    "    # thread count, the higher count - the faster\n",
    "    n_jobs=n_jobs)\n",
    "\n",
    "# perform grid search on TRAIN dataset ('is_train' filtering)\n",
    "gs.fit(X=xtrain, y=ytrain)\n",
    "# -------------------------------------------------------------\n",
    "# extract best score on cross-validation\n",
    "best_score = gs.best_score_\n",
    "# extract the estimator (DT) with best params on cross-validation\n",
    "best_dt = gs.best_estimator_\n",
    "# check gain in f1-score\n",
    "print('f1-score best: {:.4f}, +{:.4f} better than baseline'.format(\n",
    "  best_score, (best_score - scores_dt))\n",
    ")"
   ]
  },
  {
   "cell_type": "code",
   "execution_count": 22,
   "metadata": {},
   "outputs": [
    {
     "data": {
      "text/plain": [
       "DecisionTreeClassifier(class_weight='balanced', criterion='entropy',\n",
       "            max_depth=7, max_features=0.75, max_leaf_nodes=None,\n",
       "            min_impurity_decrease=0.0, min_impurity_split=None,\n",
       "            min_samples_leaf=7, min_samples_split=2,\n",
       "            min_weight_fraction_leaf=0.0, presort=True, random_state=42,\n",
       "            splitter='best')"
      ]
     },
     "execution_count": 22,
     "metadata": {},
     "output_type": "execute_result"
    }
   ],
   "source": [
    "# take a look on the best model, compare with the baseline\n",
    "best_dt"
   ]
  },
  {
   "cell_type": "code",
   "execution_count": 23,
   "metadata": {
    "ExecuteTime": {
     "end_time": "2018-03-01T19:13:36.515467Z",
     "start_time": "2018-03-01T19:13:36.484218Z"
    },
    "collapsed": true
   },
   "outputs": [],
   "source": [
    "# check performance on holdout dataset, unseen before (filter 'is_train' == False)\n",
    "# appropriate df_test data subset from 'df' dataframe\n",
    "xtest = df[columns_to_use].loc[df['is_train']==False]\n",
    "# fit baseline model 'dt' on xtrain, ytrain (because it's not fitted yet)\n",
    "dt = DecisionTreeClassifier(max_depth=3,random_state = 42)\n",
    "dt.fit(xtrain, ytrain)\n",
    "\n",
    "# baseline model\n",
    "y_true = pd.read_csv('4-mushrooms-y_test.csv')"
   ]
  },
  {
   "cell_type": "code",
   "execution_count": 24,
   "metadata": {},
   "outputs": [
    {
     "name": "stdout",
     "output_type": "stream",
     "text": [
      "Base on train:   0.9012\n",
      "Base on holdout: 0.8888\n",
      "diff: 0.0125\n",
      "\n",
      "Best on train:   0.9282\n",
      "Best on holdout: 0.9194\n",
      "diff: 0.0088\n"
     ]
    }
   ],
   "source": [
    "y_pred_baseline = dt.predict(xtest)\n",
    "\n",
    "print('Base on train:   {:.4f}\\nBase on holdout: {:.4f}\\ndiff: {:.4f}'.format(\n",
    "    scores_dt, \n",
    "    f1_score(y_true, y_pred_baseline),\n",
    "    scores_dt - f1_score(y_true, y_pred_baseline)))\n",
    "\n",
    "# best model\n",
    "y_pred_best = best_dt.predict(xtest)\n",
    "\n",
    "print('\\nBest on train:   {:.4f}\\nBest on holdout: {:.4f}\\ndiff: {:.4f}'.format(\n",
    "    best_score, \n",
    "    f1_score(y_true, y_pred_best),\n",
    "    best_score - f1_score(y_true, y_pred_best)\n",
    "))"
   ]
  },
  {
   "cell_type": "markdown",
   "metadata": {},
   "source": [
    "Now you can see that \n",
    "<br>**absolute values of f1-score is higher and distance between train|holdout is lower** <br>for **best model** in comparison to **baseline**"
   ]
  },
  {
   "cell_type": "markdown",
   "metadata": {},
   "source": [
    "**Bonus question**:\n",
    "\n",
    "Consider two possibilities:\n",
    "- (a) you have trained **one best** (on cross-validation) Decision Tree\n",
    "- (b) you randomly choose 25 subsets of 70% of training data, fits \"overfitted\" (max_depth=None) Decision Trees on it - each of them performs slightly worse than Tree in (a), and then average predicted results over all 25 models (overfitted trees)\n",
    "\n",
    "**Which one of them would most likely give the best results on hold-out dataset? What makes you think that way?**"
   ]
  },
  {
   "cell_type": "raw",
   "metadata": {
    "ExecuteTime": {
     "end_time": "2018-03-01T17:07:09.097412Z",
     "start_time": "2018-03-01T17:07:09.081783Z"
    }
   },
   "source": [
    "---------------------------------------------------------\n",
    "(b), because this approach avoid the overfitting and increase results by unlimitation depth of trees\n",
    "---------------------------------------------------------"
   ]
  },
  {
   "cell_type": "code",
   "execution_count": 50,
   "metadata": {},
   "outputs": [
    {
     "data": {
      "text/plain": [
       "RandomForestClassifier(bootstrap=True, class_weight=None, criterion='gini',\n",
       "            max_depth=None, max_features='auto', max_leaf_nodes=None,\n",
       "            min_impurity_decrease=0.0, min_impurity_split=None,\n",
       "            min_samples_leaf=1, min_samples_split=2,\n",
       "            min_weight_fraction_leaf=0.0, n_estimators=25, n_jobs=1,\n",
       "            oob_score=False, random_state=42, verbose=0, warm_start=False)"
      ]
     },
     "execution_count": 50,
     "metadata": {},
     "output_type": "execute_result"
    }
   ],
   "source": [
    "rf = RandomForestClassifier(n_estimators = 25, random_state = 42)\n",
    "rf.fit(xtrain,ytrain)"
   ]
  },
  {
   "cell_type": "code",
   "execution_count": 51,
   "metadata": {
    "collapsed": true
   },
   "outputs": [],
   "source": [
    "y_pr = rf.predict(xtest)"
   ]
  },
  {
   "cell_type": "code",
   "execution_count": 52,
   "metadata": {},
   "outputs": [
    {
     "name": "stdout",
     "output_type": "stream",
     "text": [
      "0.9168674698795181\n"
     ]
    }
   ],
   "source": [
    "print( f1_score(y_true, y_pr))"
   ]
  },
  {
   "cell_type": "code",
   "execution_count": 53,
   "metadata": {},
   "outputs": [
    {
     "data": {
      "text/plain": [
       "RandomForestClassifier(bootstrap=True, class_weight=None, criterion='gini',\n",
       "            max_depth=None, max_features='auto', max_leaf_nodes=None,\n",
       "            min_impurity_decrease=0.0, min_impurity_split=None,\n",
       "            min_samples_leaf=1, min_samples_split=2,\n",
       "            min_weight_fraction_leaf=0.0, n_estimators=25, n_jobs=1,\n",
       "            oob_score=False, random_state=42, verbose=0, warm_start=False)"
      ]
     },
     "execution_count": 53,
     "metadata": {},
     "output_type": "execute_result"
    }
   ],
   "source": [
    "rf"
   ]
  }
 ],
 "metadata": {
  "kernelspec": {
   "display_name": "Python [conda root]",
   "language": "python",
   "name": "conda-root-py"
  },
  "language_info": {
   "codemirror_mode": {
    "name": "ipython",
    "version": 3
   },
   "file_extension": ".py",
   "mimetype": "text/x-python",
   "name": "python",
   "nbconvert_exporter": "python",
   "pygments_lexer": "ipython3",
   "version": "3.6.3"
  }
 },
 "nbformat": 4,
 "nbformat_minor": 2
}
